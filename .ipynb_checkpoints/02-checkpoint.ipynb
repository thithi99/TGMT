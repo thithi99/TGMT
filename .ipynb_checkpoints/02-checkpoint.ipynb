{
 "cells": [
  {
   "cell_type": "code",
   "execution_count": 49,
   "id": "c810756d-ea57-4836-b2f3-2443156faf4a",
   "metadata": {},
   "outputs": [],
   "source": [
    "from PIL import Image\n",
    "from imgtools import *\n",
    "from IPython.display import display "
   ]
  },
  {
   "cell_type": "code",
   "execution_count": 51,
   "id": "8acd42cd-f65f-4701-9bda-143f7adeb98b",
   "metadata": {},
   "outputs": [],
   "source": [
    "dir = 'C:/Users/ADMIN/Documents/TGMT_lop1/hinhanh/minion'"
   ]
  },
  {
   "cell_type": "code",
   "execution_count": null,
   "id": "61d56423-86d1-4bc6-b3e5-f7b36c6b53e1",
   "metadata": {},
   "outputs": [],
   "source": [
    "imgs =  get_image_list(my_dir)"
   ]
  }
 ],
 "metadata": {
  "kernelspec": {
   "display_name": "Python 3 (ipykernel)",
   "language": "python",
   "name": "python3"
  },
  "language_info": {
   "codemirror_mode": {
    "name": "ipython",
    "version": 3
   },
   "file_extension": ".py",
   "mimetype": "text/x-python",
   "name": "python",
   "nbconvert_exporter": "python",
   "pygments_lexer": "ipython3",
   "version": "3.12.4"
  }
 },
 "nbformat": 4,
 "nbformat_minor": 5
}
