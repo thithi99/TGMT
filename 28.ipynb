{
  "nbformat": 4,
  "nbformat_minor": 0,
  "metadata": {
    "colab": {
      "provenance": []
    },
    "kernelspec": {
      "name": "python3",
      "display_name": "Python 3"
    },
    "language_info": {
      "name": "python"
    }
  },
  "cells": [
    {
      "cell_type": "code",
      "execution_count": 1,
      "metadata": {
        "id": "6CXS9XQrI2bh"
      },
      "outputs": [],
      "source": [
        "import cv2\n",
        "import numpy as np"
      ]
    },
    {
      "cell_type": "code",
      "source": [
        "# Tải mô hình đã được huấn luyện từ trước\n",
        "net = cv2.dnn.readNetFromCaffe(\n",
        "    './models/deploy.prototxt.txt',\n",
        "    './models/res10_300x300_ssd_iter_140000_fp16.caffemodel'\n",
        ")\n",
        "\n",
        "# Mở webcam\n",
        "cap = cv2.VideoCapture(0)\n",
        "\n",
        "while True:\n",
        "    # Đọc khung hình từ camera\n",
        "    ret, frame = cap.read()\n",
        "\n",
        "    if not ret:\n",
        "        break\n",
        "\n",
        "    # Chuẩn bị dữ liệu đầu vào\n",
        "    # img: Đây là ảnh đầu vào mà bạn muốn nhận dạng khuôn mặt. Trong trường hợp của bạn, bạn đã đọc ảnh từ tệp \"face.png\".\n",
        "    # 1.0: Đây là tỷ lệ co giãn cho ảnh. Trong trường hợp này, ảnh sẽ không bị co giãn hoặc mở rộng, và giữ nguyên kích thước ban đầu.\n",
        "    # (300, 300): Đây là kích thước mà mô hình yêu cầu cho ảnh đầu vào. Mô hình mà bạn đang sử dụng mong muốn ảnh có kích thước 300x300 pixel. Do đó, bạn co giãn hoặc cắt ảnh đầu vào thành kích thước này.\n",
        "    # (104, 177, 123): Đây là giá trị trung bình màu sắc được trừ đi từ mỗi pixel của ảnh. Điều này thường được sử dụng để chuẩn hóa dữ liệu đầu vào. Trong trường hợp này, các giá trị này thường được lấy từ dữ liệu huấn luyện của mô hình.\n",
        "    # swapRB=False: Đây là một cờ để xác định xem có cần hoán đổi các kênh màu đỏ và xanh (Red-Blue) trong ảnh hay không. Trong trường hợp này, bạn đã đặt nó thành False, tức là không hoán đổi kênh mà\n",
        "    blob = cv2.dnn.blobFromImage(frame, 1.0, (300, 300), (104, 177, 123), swapRB=False)\n",
        "\n",
        "    # Đặt dữ liệu đầu vào cho mạng\n",
        "    net.setInput(blob)\n",
        "\n",
        "    # Chạy mạng để phát hiện khuôn mặt\n",
        "    faces = net.forward()\n",
        "\n",
        "    # Lấy kích thước của ảnh đầu vào\n",
        "    h = frame.shape[0]\n",
        "    w = frame.shape[1]\n",
        "\n",
        "    # Duyệt từng khuôn mặt đã được phát hiện\n",
        "    for i in range(0, faces.shape[2]):\n",
        "        confidence = faces[0,0,i,2]\n",
        "        # Kiểm tra nếu mặt có độ tin cậy là 0.5\n",
        "        if confidence>0.5:\n",
        "            # Trích xuất tọa độ\n",
        "            # print(faces[0, 0, i, 3:7])\n",
        "            startx = int(faces[0, 0, i, 3]*w)\n",
        "            starty = int(faces[0, 0, i, 4]*h)\n",
        "            endx = int(faces[0, 0, i, 5]*w)\n",
        "            endy = int(faces[0, 0, i, 6]*h)\n",
        "            # print(startx, starty, endx, endy)\n",
        "\n",
        "            # Vẽ hình chữ nhật xung quanh khuôn mặt đã phát hiện\n",
        "            cv2.rectangle(frame, (startx, starty), (endx, endy), (0, 255, 0),)\n",
        "\n",
        "            # Hiển thị độ tin cậy\n",
        "            text = 'Face: {:.2f}%'.format(confidence*100);\n",
        "            cv2.putText(frame, text, (startx, starty-10), cv2.FONT_HERSHEY_PLAIN, 1, (255,255,255),)\n",
        "\n",
        "    # Hiển thị ảnh gốc\n",
        "    cv2.imshow('Kết quả', frame)\n",
        "    if(cv2.waitKey(1)==ord('q')):\n",
        "        break\n",
        "\n",
        "cap.release()\n",
        "cv2.destroyAllWindows()"
      ],
      "metadata": {
        "id": "7u4WtyrKKaHD"
      },
      "execution_count": null,
      "outputs": []
    }
  ]
}