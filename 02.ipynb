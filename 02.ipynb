{
 "cells": [
  {
   "cell_type": "code",
   "execution_count": 49,
   "id": "c810756d-ea57-4836-b2f3-2443156faf4a",
   "metadata": {},
   "outputs": [],
   "source": [
    "from PIL import Image\n",
    "from imgtools import *\n",
    "from IPython.display import display "
   ]
  },
  {
   "cell_type": "code",
   "execution_count": 51,
   "id": "8acd42cd-f65f-4701-9bda-143f7adeb98b",
   "metadata": {},
   "outputs": [],
   "source": [
    "dir = 'C:/Users/ADMIN/Documents/TGMT_lop1/hinhanh/minion'"
   ]
  },
  {
   "cell_type": "code",
   "execution_count": 61,
   "id": "61d56423-86d1-4bc6-b3e5-f7b36c6b53e1",
   "metadata": {},
   "outputs": [
    {
     "ename": "NameError",
     "evalue": "name 'get_image_list' is not defined",
     "output_type": "error",
     "traceback": [
      "\u001b[1;31m---------------------------------------------------------------------------\u001b[0m",
      "\u001b[1;31mNameError\u001b[0m                                 Traceback (most recent call last)",
      "Cell \u001b[1;32mIn[61], line 1\u001b[0m\n\u001b[1;32m----> 1\u001b[0m imgs \u001b[38;5;241m=\u001b[39m  get_image_list(\u001b[38;5;28mdir\u001b[39m)\n",
      "\u001b[1;31mNameError\u001b[0m: name 'get_image_list' is not defined"
     ]
    }
   ],
   "source": [
    "imgs =  get_image_list(dir)"
   ]
  },
  {
   "cell_type": "code",
   "execution_count": null,
   "id": "91f33c9e-07af-49bd-aeb8-e7cf51dbe733",
   "metadata": {},
   "outputs": [],
   "source": []
  }
 ],
 "metadata": {
  "kernelspec": {
   "display_name": "Python 3 (ipykernel)",
   "language": "python",
   "name": "python3"
  },
  "language_info": {
   "codemirror_mode": {
    "name": "ipython",
    "version": 3
   },
   "file_extension": ".py",
   "mimetype": "text/x-python",
   "name": "python",
   "nbconvert_exporter": "python",
   "pygments_lexer": "ipython3",
   "version": "3.12.4"
  }
 },
 "nbformat": 4,
 "nbformat_minor": 5
}
