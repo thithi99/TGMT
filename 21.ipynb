{
 "cells": [
  {
   "cell_type": "code",
   "execution_count": 1,
   "id": "34efd065-716d-41b7-83d3-5bcc8f7e43e6",
   "metadata": {},
   "outputs": [],
   "source": [
    "import cv2"
   ]
  },
  {
   "cell_type": "code",
   "execution_count": 6,
   "id": "a0c472c5-910e-438e-9c80-e5298caf3531",
   "metadata": {},
   "outputs": [],
   "source": [
    "# Đọc video từ file\n",
    "my_video = cv2.VideoCapture('./Data/1.mp4')"
   ]
  },
  {
   "cell_type": "code",
   "execution_count": 8,
   "id": "9cd7b373-81fb-4c1f-8f57-6ab6955da69b",
   "metadata": {},
   "outputs": [],
   "source": [
    "# Tạo cửa sổ để hiển thị\n",
    "cv2.namedWindow('Video Player', cv2.WINDOW_NORMAL)"
   ]
  },
  {
   "cell_type": "code",
   "execution_count": 10,
   "id": "bcd245d0-b806-469a-be40-0067938dc174",
   "metadata": {},
   "outputs": [],
   "source": [
    "# Hiển thị từng khung ảnh\n",
    "while True:\n",
    "    # Đọc 1 frame\n",
    "    ret, frame = my_video.read()\n",
    "    \n",
    "    # Thoát khi không thể đọc được frame\n",
    "    if not ret:\n",
    "        break\n",
    "    \n",
    "    # Hiển thị\n",
    "    cv2.imshow('Video Player', frame)\n",
    "    \n",
    "    if(cv2.waitKey(10)==ord('q')):\n",
    "        break"
   ]
  },
  {
   "cell_type": "code",
   "execution_count": 14,
   "id": "7232a769-4dec-49fc-9e3f-e3cbabb4a2fc",
   "metadata": {},
   "outputs": [],
   "source": [
    "# Hủy bỏ player\n",
    "my_video.release\n",
    "cv2.destroyAllWindows()"
   ]
  },
  {
   "cell_type": "code",
   "execution_count": null,
   "id": "79c977da-faf4-4286-8dfe-f426974aafa5",
   "metadata": {},
   "outputs": [],
   "source": []
  }
 ],
 "metadata": {
  "kernelspec": {
   "display_name": "Python 3 (ipykernel)",
   "language": "python",
   "name": "python3"
  },
  "language_info": {
   "codemirror_mode": {
    "name": "ipython",
    "version": 3
   },
   "file_extension": ".py",
   "mimetype": "text/x-python",
   "name": "python",
   "nbconvert_exporter": "python",
   "pygments_lexer": "ipython3",
   "version": "3.12.4"
  }
 },
 "nbformat": 4,
 "nbformat_minor": 5
}
