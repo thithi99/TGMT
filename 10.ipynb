{
 "cells": [
  {
   "cell_type": "code",
   "execution_count": 2,
   "id": "07c2b8b1-ca15-4ca9-9399-68286551495c",
   "metadata": {},
   "outputs": [],
   "source": [
    "from PIL import Image\n",
    "import matplotlib.pyplot as plt"
   ]
  },
  {
   "cell_type": "code",
   "execution_count": 4,
   "id": "ae698ac7-af3b-4e3f-9b9c-9249d696912c",
   "metadata": {},
   "outputs": [],
   "source": [
    "my_path = 'C:/Users/ADMIN/Documents/TGMT_lop1/hinhanh/minion/minion.jpg'"
   ]
  },
  {
   "cell_type": "code",
   "execution_count": 6,
   "id": "b2a3f163-4dcf-4f0b-b68d-ab8b4ba43898",
   "metadata": {},
   "outputs": [
    {
     "name": "stdout",
     "output_type": "stream",
     "text": [
      "[(84.90909090909086, 44.83333333333334), (86.45454545454542, 79.34848484848484), (153.93939393939388, 163.3181818181818)]\n"
     ]
    }
   ],
   "source": [
    "#đọc ảnh\n",
    "img = Image.open(my_path)\n",
    "#chuyển đổi backend\n",
    "plt.switch_backend(\"tkagg\")\n",
    "#hiển thị hình ảnh\n",
    "plt.imshow(img)\n",
    "plt.title('click on the image the image to select points')\n",
    "#sử dụng hàm ginput để chọn điểm trên ảnh\n",
    "points = plt.ginput(5)\n",
    "print(points)\n",
    "plt.show()"
   ]
  },
  {
   "cell_type": "code",
   "execution_count": 7,
   "id": "bbfe2834-d459-4624-8a1f-c32a9eac3344",
   "metadata": {},
   "outputs": [],
   "source": [
    "#vẽ lại các điểm đã chọn bằng dấu * màu đỏ\n",
    "plt.close()\n",
    "#vẽ lại\n",
    "plt.imshow(img)\n",
    "for point in points:\n",
    "    x, y = point\n",
    "    plt.plot(x,y, 'r*')\n",
    "\n",
    "plt.show()"
   ]
  },
  {
   "cell_type": "code",
   "execution_count": null,
   "id": "593d964b-2a0a-4307-bc55-88f5f6090cf3",
   "metadata": {},
   "outputs": [],
   "source": []
  }
 ],
 "metadata": {
  "kernelspec": {
   "display_name": "Python 3 (ipykernel)",
   "language": "python",
   "name": "python3"
  },
  "language_info": {
   "codemirror_mode": {
    "name": "ipython",
    "version": 3
   },
   "file_extension": ".py",
   "mimetype": "text/x-python",
   "name": "python",
   "nbconvert_exporter": "python",
   "pygments_lexer": "ipython3",
   "version": "3.12.4"
  }
 },
 "nbformat": 4,
 "nbformat_minor": 5
}
